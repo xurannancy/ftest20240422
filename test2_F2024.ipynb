{
 "cells": [
  {
   "cell_type": "code",
   "execution_count": null,
   "id": "cf5bf2ce-3734-4b48-a140-44a1a0248b86",
   "metadata": {},
   "outputs": [],
   "source": [
    "%matplotlib inline\n",
    "import datetime\n",
    "import numpy as np\n",
    "import statistics\n",
    "import random\n",
    "import matplotlib.pyplot as plt\n",
    "import scipy.stats as stats\n",
    "import statsmodels.api as statsmod"
   ]
  },
  {
   "cell_type": "code",
   "execution_count": null,
   "id": "8846e869-72b9-4349-9e50-9f9919ea9540",
   "metadata": {},
   "outputs": [],
   "source": [
    "# from 1.6"
   ]
  },
  {
   "cell_type": "code",
   "execution_count": null,
   "id": "a9ce80bb-8ba0-4c31-8ebd-3d3566038c49",
   "metadata": {},
   "outputs": [],
   "source": [
    "def Input(filename):        # notice the function is not called \"input\" -- which is already a built-it function in Python\n",
    "    f = open(filename, 'r')      # open the file, reading mode\n",
    "    lines = f.readlines()        # create a list where each element is a separate line\n",
    "    lines = [l.strip() for l in lines]    # removes spaces iterating through each item\n",
    "    f.close()\n",
    "    return lines"
   ]
  },
  {
   "cell_type": "code",
   "execution_count": null,
   "id": "31b3aa69-7d0f-47f4-8564-b58ef984d464",
   "metadata": {},
   "outputs": [],
   "source": [
    "fomc202401 = Input('1.6_fomcminutes20240131.txt')     # it is a list"
   ]
  },
  {
   "cell_type": "code",
   "execution_count": null,
   "id": "13212fd3-c9ff-4ebf-a8ee-09bb2c59a488",
   "metadata": {},
   "outputs": [],
   "source": [
    "print(fomc202401)"
   ]
  },
  {
   "cell_type": "code",
   "execution_count": null,
   "id": "c1ea0559-7ee7-423b-9d5e-3517e420d5a9",
   "metadata": {},
   "outputs": [],
   "source": [
    "# from 2.0"
   ]
  },
  {
   "cell_type": "code",
   "execution_count": null,
   "id": "b8f71564-bf9e-40bc-85a4-9b5ee24eba0a",
   "metadata": {},
   "outputs": [],
   "source": [
    "b = open('./bitcoin.txt', 'r')\n",
    "b_text = b.read()\n",
    "b_lines = b_text.split('\\n')      # identify lines"
   ]
  },
  {
   "cell_type": "code",
   "execution_count": null,
   "id": "b15d03da-7c11-44ea-82dc-cf98fddcdb1f",
   "metadata": {},
   "outputs": [],
   "source": [
    "# from 2.3"
   ]
  },
  {
   "cell_type": "code",
   "execution_count": null,
   "id": "5f8f0b89-6da9-4b65-af51-3e205d4c6bee",
   "metadata": {},
   "outputs": [],
   "source": [
    "data_A = np.random.normal(0.06,0.10,(1,20))\n",
    "data_B = np.random.normal(0.075,0.15,(1,20))\n",
    "data_C = np.random.normal(0.09,0.21,(1,20))\n",
    "data = np.vstack((data_A,data_B, data_C))\n",
    "print(data)"
   ]
  },
  {
   "cell_type": "code",
   "execution_count": null,
   "id": "c2f160b0-c516-4702-b91b-036f95ad71e9",
   "metadata": {},
   "outputs": [],
   "source": [
    "np.corrcoef(data)"
   ]
  },
  {
   "cell_type": "code",
   "execution_count": null,
   "id": "a6b01412-36f6-4dd4-8526-72ac9a1c8060",
   "metadata": {},
   "outputs": [],
   "source": [
    "# from 2.5"
   ]
  },
  {
   "cell_type": "code",
   "execution_count": null,
   "id": "a3da7d67-b273-4b2c-9380-cdb99e32d08f",
   "metadata": {},
   "outputs": [],
   "source": [
    "bitcoin = np.genfromtxt(\"./Bitcoin_with_Factors_v6.csv\", delimiter=',')"
   ]
  },
  {
   "cell_type": "code",
   "execution_count": null,
   "id": "0865ead3-13df-4a1a-a80c-eeddcd6380b5",
   "metadata": {},
   "outputs": [],
   "source": [
    "print(bitcoin.shape) \n",
    "print(bitcoin[0]) # row 1\n",
    "print(bitcoin[1]) # row 2\n",
    "print(bitcoin[:,0]) # column 1"
   ]
  },
  {
   "cell_type": "code",
   "execution_count": null,
   "id": "3bc3cff9-94a4-4da6-9411-cddac6f9c2a4",
   "metadata": {},
   "outputs": [],
   "source": []
  }
 ],
 "metadata": {
  "kernelspec": {
   "display_name": "Python 3 (ipykernel)",
   "language": "python",
   "name": "python3"
  },
  "language_info": {
   "codemirror_mode": {
    "name": "ipython",
    "version": 3
   },
   "file_extension": ".py",
   "mimetype": "text/x-python",
   "name": "python",
   "nbconvert_exporter": "python",
   "pygments_lexer": "ipython3",
   "version": "3.11.7"
  }
 },
 "nbformat": 4,
 "nbformat_minor": 5
}
